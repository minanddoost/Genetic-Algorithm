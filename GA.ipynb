{
  "nbformat": 4,
  "nbformat_minor": 0,
  "metadata": {
    "colab": {
      "provenance": [],
      "authorship_tag": "ABX9TyOwVw0JpXN3wQem3LFV4gHG",
      "include_colab_link": true
    },
    "kernelspec": {
      "name": "python3",
      "display_name": "Python 3"
    },
    "language_info": {
      "name": "python"
    }
  },
  "cells": [
    {
      "cell_type": "markdown",
      "metadata": {
        "id": "view-in-github",
        "colab_type": "text"
      },
      "source": [
        "<a href=\"https://colab.research.google.com/github/minanddoost/Genetic-Algorithm/blob/main/GA.ipynb\" target=\"_parent\"><img src=\"https://colab.research.google.com/assets/colab-badge.svg\" alt=\"Open In Colab\"/></a>"
      ]
    },
    {
      "cell_type": "code",
      "source": [
        "import numpy as np\n",
        "import matplotlib.pyplot as plt"
      ],
      "metadata": {
        "id": "_b5y8MSZsHCi"
      },
      "execution_count": 38,
      "outputs": []
    },
    {
      "cell_type": "code",
      "execution_count": 39,
      "metadata": {
        "id": "OsbvqdGGr89u"
      },
      "outputs": [],
      "source": [
        "DNA_SIZE = 40            # DNA length\n",
        "# number of variables  multiply by 10 bits\n",
        "#here we have 4 variables\n",
        "#column\n",
        "POP_SIZE = 100           # population size\n",
        "#potential solutions\n",
        "#rows\n",
        "CROSS_RATE = 0.8         # DNA crossover probability\n",
        "# 80% cross over, almost all the information will be recombined\n",
        "MUTATION_RATE = 0.003    # DNA mutation probability\n",
        "# 3% mutation\n",
        "N_GENERATIONS = 100\n",
        "#number of generations\n",
        "u_BOUND = [20, 35]\n",
        "s_BOUND = [350, 500]\n",
        "k_BOUND = [50000, 80000]\n",
        "c_BOUND = [1500, 2700]\n",
        "#from given data, lower and upper #"
      ]
    },
    {
      "cell_type": "code",
      "source": [
        "#fitness function\n",
        "# for maximization we use the function as fitness funtion\n",
        "# for minimization 1/f(x)\n",
        "def F(u, s, k, c):\n",
        "    const = np.pi * 30 * 6.5* 1e-06\n",
        "    part = 50000 * c / (2 * (s**1.5) * (k**0.5) ) + (u + s)*k*k / (2*c*s*s)\n",
        "    return 1/((const * part)**0.5 )\n",
        ""
      ],
      "metadata": {
        "id": "Qn5RfD1tsEQp"
      },
      "execution_count": 40,
      "outputs": []
    },
    {
      "cell_type": "code",
      "source": [
        "# find non-zero fitness for selection and positive\n",
        "def get_fitness(F_values): return F_values + 1e-3 - np.min(F_values)"
      ],
      "metadata": {
        "id": "V1adf9RksXNg"
      },
      "execution_count": 41,
      "outputs": []
    },
    {
      "cell_type": "code",
      "source": [
        "def translateDNA_1(pop):\n",
        "    pop_1 = pop[:, 0:10]  # we use first 10 bits\n",
        "    return pop_1.dot(2 ** np.arange(int(DNA_SIZE / 4))[::-1]) / float(2**(DNA_SIZE/4) - 1) * (u_BOUND[1] - u_BOUND[0]) + u_BOUND[0]\n"
      ],
      "metadata": {
        "id": "fMsa0HmysazI"
      },
      "execution_count": 42,
      "outputs": []
    },
    {
      "cell_type": "code",
      "source": [
        "def translateDNA_2(pop): # number under DNA size based in variables and Bounds\n",
        "    pop_2=pop[:, 10:20]\n",
        "    return pop_2.dot(2 ** np.arange(int(DNA_SIZE/4))[::-1]) / float(2**(DNA_SIZE/4)-1) * (s_BOUND[1]-s_BOUND[0]) + s_BOUND[0]"
      ],
      "metadata": {
        "id": "NphItv5YslcA"
      },
      "execution_count": 43,
      "outputs": []
    },
    {
      "cell_type": "code",
      "source": [
        "def translateDNA_3(pop):\n",
        "    pop_3=pop[:, 20:30]\n",
        "    return pop_3.dot(2 ** np.arange(int(DNA_SIZE/4))[::-1]) / float(2**(DNA_SIZE/4)-1) * (k_BOUND[1]-k_BOUND[0]) + k_BOUND[0]"
      ],
      "metadata": {
        "id": "zBlWmZh6spGy"
      },
      "execution_count": 44,
      "outputs": []
    },
    {
      "cell_type": "code",
      "source": [
        "def translateDNA_4(pop):\n",
        "    pop_4=pop[:, 30:40]\n",
        "    return pop_4.dot(2 ** np.arange(int(DNA_SIZE/4))[::-1]) / float(2**(DNA_SIZE/4)-1) * (c_BOUND[1]-c_BOUND[0]) + c_BOUND[0]"
      ],
      "metadata": {
        "id": "DriC68-Pstzx"
      },
      "execution_count": 45,
      "outputs": []
    },
    {
      "cell_type": "code",
      "source": [
        "def select(pop, fitness):\n",
        "    idx = np.random.choice(np.arange(POP_SIZE), size=POP_SIZE, replace=True,\n",
        "                           p=fitness/fitness.sum())\n",
        "\n",
        "    return pop[idx]"
      ],
      "metadata": {
        "id": "chD2XJQAs3kr"
      },
      "execution_count": 46,
      "outputs": []
    },
    {
      "cell_type": "code",
      "source": [
        "\n",
        "def crossover(parent, pop):\n",
        "    if np.random.rand() < CROSS_RATE:\n",
        "        i_ = np.random.randint(0, POP_SIZE, size=1)                             # select another individual from pop\n",
        "        cross_points = np.random.randint(0, 2, size=DNA_SIZE).astype(np.bool)   # choose crossover points\n",
        "        parent[cross_points] = pop[i_, cross_points]                            # mating and produce one child\n",
        "    return parent"
      ],
      "metadata": {
        "id": "1XaLPK-atBCy"
      },
      "execution_count": 47,
      "outputs": []
    },
    {
      "cell_type": "code",
      "source": [
        "def mutate(child):\n",
        "    for point in range(DNA_SIZE):\n",
        "        if np.random.rand() < MUTATION_RATE:\n",
        "            child[point] = 1 if child[point] == 0 else 0\n",
        "    return child"
      ],
      "metadata": {
        "id": "2jtjzD-ktTwc"
      },
      "execution_count": 48,
      "outputs": []
    },
    {
      "cell_type": "code",
      "source": [
        "pop = np.random.randint(2, size=(POP_SIZE, DNA_SIZE))\n",
        "#matrix\n",
        "# 2 means base (binary)\n",
        "\n",
        "for i in range(N_GENERATIONS):\n",
        "    F_values = F(translateDNA_1(pop), translateDNA_2(pop), translateDNA_3(pop), translateDNA_4(pop))\n",
        "    # compute function value by extracting DNA\n",
        "\n",
        "    # GA part (evolution)\n",
        "    fitness = get_fitness(F_values)\n",
        "    print(\"Most fitted DNA: \", pop[np.argmax(fitness), :])\n",
        "    # .argmax Returns the indices of the maximum values along an axis.\n",
        "    pop = select(pop, fitness)\n",
        "    pop_copy = pop.copy()\n",
        "    for parent in pop:\n",
        "        child = crossover(parent, pop)\n",
        "        child = mutate(child)\n",
        "        parent[:] = child       # parent is replaced by its child"
      ],
      "metadata": {
        "id": "TeFe2MDCtUP0",
        "colab": {
          "base_uri": "https://localhost:8080/"
        },
        "outputId": "9a937de0-b06b-443d-df8c-98206e5ccf80"
      },
      "execution_count": 49,
      "outputs": [
        {
          "output_type": "stream",
          "name": "stdout",
          "text": [
            "Most fitted DNA:  [0 0 0 1 0 1 0 0 0 1 1 1 1 1 1 1 1 1 1 1 0 0 1 0 0 0 0 1 1 1 1 1 0 0 0 0 1\n",
            " 1 1 0]\n",
            "Most fitted DNA:  [1 1 0 0 0 1 0 1 0 0 1 1 1 0 0 0 1 0 0 0 0 0 0 0 0 1 0 0 1 1 1 1 1 1 1 0 0\n",
            " 1 1 1]\n",
            "Most fitted DNA:  [1 0 1 0 1 1 0 0 0 0 1 1 1 1 1 1 1 0 0 1 0 0 0 0 0 1 0 0 1 1 1 1 1 1 1 0 1\n",
            " 0 1 1]\n",
            "Most fitted DNA:  [0 0 1 0 1 0 1 0 0 1 1 1 1 0 1 0 1 0 0 1 0 0 0 0 0 0 0 1 1 0 1 1 1 1 1 0 0\n",
            " 0 1 1]\n",
            "Most fitted DNA:  [0 0 1 0 1 0 1 0 0 1 1 1 1 0 1 0 1 0 0 1 0 0 0 0 0 0 0 1 1 0 1 1 1 1 1 0 0\n",
            " 0 1 1]\n",
            "Most fitted DNA:  [0 0 0 1 0 0 1 1 1 0 1 1 1 1 1 0 1 1 1 0 0 0 0 0 0 1 1 0 1 0 1 1 1 1 1 1 0\n",
            " 0 0 0]\n",
            "Most fitted DNA:  [0 0 0 1 0 0 1 1 1 0 1 1 1 1 1 0 1 1 1 0 0 0 0 0 0 1 1 0 1 0 1 1 1 1 1 1 0\n",
            " 0 0 0]\n",
            "Most fitted DNA:  [0 0 0 0 0 0 1 0 1 0 1 1 1 1 1 0 1 1 1 0 0 0 0 0 0 1 0 0 1 0 1 1 1 1 1 1 0\n",
            " 0 1 1]\n",
            "Most fitted DNA:  [0 0 0 0 0 0 1 0 1 0 1 1 1 1 1 0 1 1 1 0 0 0 0 0 0 1 0 0 1 0 1 1 1 1 1 1 0\n",
            " 0 1 1]\n",
            "Most fitted DNA:  [0 0 0 0 1 0 1 0 1 0 1 1 1 1 1 0 1 1 1 0 0 0 0 0 0 1 0 0 0 0 1 1 1 1 1 1 0\n",
            " 0 1 1]\n",
            "Most fitted DNA:  [0 1 0 0 0 0 0 0 1 1 1 1 1 1 1 0 1 0 1 1 0 0 0 0 0 0 0 0 0 0 1 1 1 1 1 0 0\n",
            " 0 0 1]\n",
            "Most fitted DNA:  [0 0 1 0 0 1 0 1 1 0 1 1 1 1 1 0 1 1 1 0 0 0 0 0 0 0 0 1 0 1 1 1 1 1 1 0 1\n",
            " 0 1 1]\n",
            "Most fitted DNA:  [0 0 0 0 1 1 0 0 1 1 1 1 1 1 1 0 1 0 1 0 0 0 0 0 0 0 0 0 0 1 1 1 1 1 1 0 1\n",
            " 0 1 0]\n",
            "Most fitted DNA:  [0 0 0 0 0 1 0 1 1 1 1 1 1 1 1 0 1 0 1 1 0 0 0 0 0 0 0 0 0 1 1 1 1 1 1 0 0\n",
            " 0 1 0]\n",
            "Most fitted DNA:  [0 1 0 0 1 0 0 0 1 1 1 1 1 1 1 0 0 1 1 0 0 0 0 0 0 0 0 0 0 1 1 1 1 1 1 1 1\n",
            " 1 1 1]\n",
            "Most fitted DNA:  [0 0 0 0 0 1 0 0 1 1 1 1 1 1 1 0 0 1 1 0 0 0 0 0 0 0 0 1 0 1 1 1 1 1 1 1 0\n",
            " 1 1 1]\n",
            "Most fitted DNA:  [0 1 1 0 0 0 0 0 1 1 1 1 1 1 1 0 1 1 1 0 0 0 0 0 0 0 0 1 0 1 1 1 1 1 1 1 0\n",
            " 0 0 1]\n",
            "Most fitted DNA:  [0 1 0 0 0 1 0 0 1 1 1 1 1 1 1 0 0 1 1 1 0 0 0 0 0 0 0 1 0 1 1 1 1 1 1 0 1\n",
            " 0 1 0]\n",
            "Most fitted DNA:  [0 1 0 0 0 1 0 0 1 1 1 1 1 1 1 0 0 0 1 1 0 0 0 0 0 0 0 0 0 0 1 1 1 1 1 1 1\n",
            " 0 0 0]\n",
            "Most fitted DNA:  [0 1 0 0 0 0 1 0 0 0 1 1 1 1 1 0 1 0 0 1 0 0 0 0 0 0 0 0 0 1 1 1 1 1 1 1 1\n",
            " 1 0 1]\n",
            "Most fitted DNA:  [0 1 0 0 0 1 0 0 1 1 1 1 1 1 1 0 0 0 0 0 0 0 0 0 0 0 0 0 0 1 1 1 1 1 1 1 1\n",
            " 1 0 0]\n",
            "Most fitted DNA:  [0 1 0 0 0 1 0 0 0 0 1 1 1 1 1 0 1 0 0 1 0 0 0 0 0 0 0 0 0 0 1 1 1 1 1 1 0\n",
            " 0 1 0]\n",
            "Most fitted DNA:  [0 1 0 0 0 0 0 0 0 0 1 1 1 1 1 0 0 1 1 0 0 0 0 0 0 0 0 0 0 0 1 1 1 1 1 1 1\n",
            " 0 0 0]\n",
            "Most fitted DNA:  [0 1 0 0 0 1 0 0 0 0 1 1 1 1 1 0 1 0 0 1 0 0 0 0 0 0 0 0 0 0 1 1 1 1 1 1 0\n",
            " 0 1 0]\n",
            "Most fitted DNA:  [0 1 0 0 0 1 0 0 1 0 1 1 1 1 1 0 0 1 1 0 0 0 0 0 0 0 0 0 0 0 1 1 1 1 1 1 0\n",
            " 0 1 0]\n",
            "Most fitted DNA:  [0 0 0 0 0 1 0 1 0 1 1 1 1 1 1 0 1 1 1 1 0 0 0 0 0 0 0 0 1 0 1 1 1 1 1 1 1\n",
            " 0 0 1]\n",
            "Most fitted DNA:  [0 0 0 0 0 1 0 0 1 0 1 1 1 1 1 0 0 1 1 1 0 0 0 0 0 0 0 1 0 0 1 1 1 1 1 1 1\n",
            " 1 1 0]\n",
            "Most fitted DNA:  [0 0 0 0 0 1 0 0 1 0 1 1 1 1 1 0 0 1 1 1 0 0 0 0 0 0 0 1 0 0 1 1 1 1 1 1 1\n",
            " 1 1 0]\n",
            "Most fitted DNA:  [0 0 1 0 0 1 0 1 0 1 1 1 1 1 1 0 1 1 1 1 0 0 0 0 0 0 0 0 1 0 1 1 1 1 1 1 1\n",
            " 0 0 1]\n",
            "Most fitted DNA:  [0 0 0 0 0 1 0 0 0 0 1 1 1 1 1 0 0 0 1 0 0 0 0 0 0 0 0 1 0 0 1 1 1 1 1 1 1\n",
            " 0 1 1]\n",
            "Most fitted DNA:  [0 0 0 0 0 0 0 0 0 0 1 1 1 1 1 0 1 1 1 0 0 0 0 0 0 0 0 1 0 0 1 1 1 1 1 1 1\n",
            " 1 1 1]\n",
            "Most fitted DNA:  [0 0 0 0 0 1 0 0 1 1 1 1 1 1 1 0 0 1 0 1 0 0 0 0 0 0 0 0 0 1 1 1 1 1 1 1 1\n",
            " 0 1 0]\n",
            "Most fitted DNA:  [0 0 0 0 0 0 0 0 0 1 1 1 1 1 1 0 1 1 1 1 0 0 0 0 0 0 0 1 0 0 1 1 1 1 1 1 1\n",
            " 0 0 0]\n",
            "Most fitted DNA:  [0 0 0 0 0 0 0 0 0 1 1 1 1 1 1 0 1 1 1 1 0 0 0 0 0 0 0 1 0 0 1 1 1 1 1 1 1\n",
            " 0 0 0]\n",
            "Most fitted DNA:  [0 0 0 0 0 1 0 1 1 1 1 1 1 1 1 1 0 0 0 0 0 0 0 0 0 0 0 1 0 0 1 1 1 1 1 1 1\n",
            " 1 0 1]\n",
            "Most fitted DNA:  [0 0 0 0 0 1 0 0 1 1 1 1 1 1 1 0 0 1 1 0 0 0 0 0 0 0 0 0 0 1 1 1 1 1 1 1 1\n",
            " 1 1 0]\n",
            "Most fitted DNA:  [0 0 0 0 0 1 0 1 1 1 1 1 1 1 1 1 0 1 1 0 0 0 0 0 0 0 0 1 0 0 1 1 1 1 1 1 1\n",
            " 1 0 1]\n",
            "Most fitted DNA:  [0 0 0 0 0 1 0 1 1 1 1 1 1 1 1 1 0 1 0 0 0 0 0 0 0 0 0 1 0 0 1 1 1 1 1 1 1\n",
            " 1 0 1]\n",
            "Most fitted DNA:  [0 0 0 0 0 1 0 0 1 1 1 1 1 1 1 0 0 1 1 0 0 0 0 0 0 0 0 0 0 1 1 1 1 1 1 1 0\n",
            " 1 1 1]\n",
            "Most fitted DNA:  [0 0 0 0 0 1 0 0 1 1 1 1 1 1 1 0 1 1 0 0 0 0 0 0 0 0 0 1 0 1 1 1 1 1 1 1 1\n",
            " 1 1 1]\n",
            "Most fitted DNA:  [0 0 0 0 0 1 0 0 1 1 1 1 1 1 1 0 1 1 0 0 0 0 0 0 0 0 0 1 0 1 1 1 1 1 1 1 1\n",
            " 1 1 1]\n",
            "Most fitted DNA:  [0 0 0 0 0 1 0 0 1 1 1 1 1 1 1 0 1 1 0 0 0 0 0 0 0 0 0 1 0 1 1 1 1 1 1 1 1\n",
            " 1 1 1]\n",
            "Most fitted DNA:  [0 0 0 0 0 1 0 1 1 0 1 1 1 1 1 0 1 1 0 0 0 0 0 0 0 0 0 1 0 0 1 1 1 1 1 1 1\n",
            " 1 0 1]\n",
            "Most fitted DNA:  [0 0 0 0 0 1 0 0 1 0 1 1 1 1 1 0 0 1 0 0 0 0 0 0 0 0 0 0 0 1 1 1 1 1 1 1 1\n",
            " 0 1 1]\n",
            "Most fitted DNA:  [0 0 0 0 0 0 0 0 1 0 1 1 1 1 1 0 0 1 0 0 0 0 0 0 0 0 0 1 0 1 1 1 1 1 1 1 1\n",
            " 1 0 0]\n",
            "Most fitted DNA:  [0 0 0 0 0 1 0 0 1 0 1 1 1 1 1 0 1 1 0 0 0 0 0 0 0 0 0 0 1 0 1 1 1 1 1 1 1\n",
            " 1 0 1]\n",
            "Most fitted DNA:  [0 0 0 0 0 1 0 0 1 0 1 1 1 1 1 0 1 1 0 0 0 0 0 0 0 0 0 0 1 0 1 1 1 1 1 1 1\n",
            " 1 0 1]\n",
            "Most fitted DNA:  [0 0 0 0 0 0 0 1 1 1 1 1 1 1 1 0 0 1 1 0 0 0 0 0 0 0 0 0 0 0 1 1 1 1 1 1 1\n",
            " 0 0 1]\n",
            "Most fitted DNA:  [0 0 0 0 0 0 0 0 0 0 1 1 1 1 1 0 0 1 1 1 0 0 0 0 0 0 0 0 1 0 1 1 1 1 1 1 1\n",
            " 1 1 1]\n",
            "Most fitted DNA:  [0 0 0 0 0 0 0 0 1 1 1 1 1 1 1 0 1 1 0 0 0 0 0 0 0 0 0 0 1 1 1 1 1 1 1 1 1\n",
            " 0 1 1]\n",
            "Most fitted DNA:  [0 0 0 0 0 0 0 0 1 1 1 1 1 1 1 0 1 1 0 1 0 0 0 0 0 0 0 0 1 1 1 1 1 1 1 1 1\n",
            " 0 1 1]\n",
            "Most fitted DNA:  [0 0 0 0 0 0 0 0 1 1 1 1 1 1 1 0 0 1 0 0 0 0 0 0 0 0 0 0 0 0 1 1 1 1 1 1 1\n",
            " 1 0 1]\n",
            "Most fitted DNA:  [0 0 0 0 0 1 0 1 1 1 1 1 1 1 1 0 0 1 1 0 0 0 0 0 0 0 0 0 0 0 1 1 1 1 1 1 1\n",
            " 0 1 0]\n",
            "Most fitted DNA:  [0 0 0 0 0 1 0 1 1 1 1 1 1 1 1 0 0 1 1 1 0 0 0 0 0 0 0 0 0 0 1 1 1 1 1 1 1\n",
            " 0 1 0]\n",
            "Most fitted DNA:  [0 0 0 0 0 1 0 1 1 1 1 1 1 1 1 0 0 1 1 1 0 0 0 0 0 0 0 0 0 0 1 1 1 1 1 1 1\n",
            " 0 1 0]\n",
            "Most fitted DNA:  [0 0 0 0 1 0 0 1 1 1 1 1 1 1 1 0 0 1 0 1 0 0 0 0 0 0 0 1 1 1 1 1 1 1 1 1 1\n",
            " 0 0 1]\n",
            "Most fitted DNA:  [0 0 0 0 0 0 0 0 1 1 1 1 1 1 1 0 0 1 0 0 0 0 0 0 0 0 0 1 0 1 1 1 1 1 1 1 0\n",
            " 0 0 1]\n",
            "Most fitted DNA:  [0 0 0 0 0 0 0 1 1 1 1 1 1 1 1 0 0 1 0 0 0 0 0 0 0 0 0 1 0 1 1 1 1 1 1 1 0\n",
            " 1 0 1]\n",
            "Most fitted DNA:  [0 0 0 0 0 0 0 0 1 1 1 1 1 1 1 0 0 1 0 1 0 0 0 0 0 0 0 0 1 1 1 1 1 1 1 1 0\n",
            " 0 0 1]\n",
            "Most fitted DNA:  [0 0 0 0 0 0 0 0 1 1 1 1 1 1 1 0 0 1 0 0 0 0 0 0 0 0 0 0 0 1 1 1 1 1 1 1 1\n",
            " 1 1 1]\n",
            "Most fitted DNA:  [0 0 0 0 0 1 0 0 1 1 1 1 1 1 1 0 0 1 0 0 0 0 0 0 0 0 0 1 0 1 1 1 1 1 1 1 1\n",
            " 0 1 0]\n",
            "Most fitted DNA:  [0 0 0 0 1 0 0 1 1 1 1 1 1 1 1 0 0 1 0 1 0 0 0 0 0 0 0 0 1 0 1 1 1 1 1 1 0\n",
            " 1 0 1]\n",
            "Most fitted DNA:  [0 0 0 0 0 1 0 1 1 1 1 1 1 1 1 0 0 1 1 0 0 0 0 0 0 0 0 0 0 1 1 1 1 1 1 1 0\n",
            " 1 0 0]\n",
            "Most fitted DNA:  [0 1 0 0 0 1 0 0 1 1 1 1 1 1 1 0 0 1 0 0 0 0 0 0 0 0 0 0 0 0 1 1 1 1 1 1 0\n",
            " 0 1 1]\n",
            "Most fitted DNA:  [0 0 0 0 0 1 0 0 1 1 1 1 1 1 1 0 0 1 1 0 0 0 0 0 0 0 0 1 0 1 1 1 1 1 1 1 0\n",
            " 0 0 0]\n",
            "Most fitted DNA:  [0 0 0 0 0 1 0 0 1 1 1 1 1 1 1 0 0 1 1 1 0 0 0 0 0 0 0 1 1 1 1 1 1 1 1 1 1\n",
            " 0 0 0]\n",
            "Most fitted DNA:  [0 0 0 0 0 1 0 1 1 0 1 1 1 1 1 0 0 1 0 1 0 0 0 0 0 0 0 0 0 1 1 1 1 1 1 1 0\n",
            " 1 0 0]\n",
            "Most fitted DNA:  [0 0 0 0 0 1 0 1 1 1 1 1 1 1 1 0 0 1 1 0 0 0 0 0 0 0 0 1 0 1 1 1 1 1 1 1 0\n",
            " 1 0 0]\n",
            "Most fitted DNA:  [0 0 0 0 0 1 0 0 1 1 1 1 1 1 1 0 0 1 0 1 0 0 0 0 0 0 0 0 1 0 1 1 1 1 1 1 1\n",
            " 0 0 0]\n",
            "Most fitted DNA:  [0 0 0 0 0 0 0 0 1 1 1 1 1 1 1 0 0 1 0 0 0 0 0 0 0 0 0 0 0 0 1 1 1 1 1 1 1\n",
            " 0 0 0]\n",
            "Most fitted DNA:  [0 0 0 0 0 1 0 1 1 1 1 1 1 1 1 0 0 1 0 0 0 0 0 0 0 0 0 0 0 1 1 1 1 1 1 1 0\n",
            " 0 0 0]\n",
            "Most fitted DNA:  [0 0 0 0 0 1 0 0 1 1 1 1 1 1 1 1 0 1 0 0 0 0 0 0 0 0 1 0 0 0 1 1 1 1 1 1 1\n",
            " 0 0 0]\n",
            "Most fitted DNA:  [0 1 0 0 0 1 0 1 1 1 1 1 1 1 1 0 0 1 0 0 0 0 0 0 0 0 0 0 1 0 1 1 1 1 1 1 1\n",
            " 0 0 0]\n",
            "Most fitted DNA:  [0 0 0 0 1 0 0 1 1 1 1 1 1 1 1 0 0 1 1 0 0 0 0 0 0 0 0 0 0 1 1 1 1 1 1 1 1\n",
            " 0 0 0]\n",
            "Most fitted DNA:  [0 0 0 0 0 1 0 1 1 1 1 1 1 1 1 0 0 1 1 0 0 0 0 0 0 0 0 0 0 0 1 1 1 1 1 1 1\n",
            " 0 0 0]\n",
            "Most fitted DNA:  [0 0 0 0 1 0 0 1 1 1 1 1 1 1 1 0 0 1 0 0 0 0 0 0 0 0 0 0 0 1 1 1 1 1 1 1 1\n",
            " 1 0 0]\n",
            "Most fitted DNA:  [0 0 0 0 1 1 0 1 1 1 1 1 1 1 1 1 0 1 0 0 0 0 0 0 0 0 0 0 0 1 1 1 1 1 1 1 0\n",
            " 0 0 1]\n",
            "Most fitted DNA:  [0 0 0 0 0 1 0 1 1 1 1 1 1 1 1 1 0 1 0 0 0 0 0 0 0 0 0 0 0 0 1 1 1 1 1 1 0\n",
            " 0 0 0]\n",
            "Most fitted DNA:  [0 0 0 0 0 1 0 1 1 1 1 1 1 1 1 1 0 1 0 0 0 0 0 0 0 0 0 0 0 0 1 1 1 1 1 1 0\n",
            " 0 0 0]\n",
            "Most fitted DNA:  [0 0 0 0 0 1 0 1 0 1 1 1 1 1 1 0 0 1 0 0 0 0 0 0 0 0 0 0 0 0 1 1 1 1 1 1 1\n",
            " 0 0 0]\n",
            "Most fitted DNA:  [0 0 0 0 0 1 0 1 1 1 1 1 1 1 1 0 0 1 0 0 0 0 0 0 0 0 0 0 0 0 1 1 1 1 1 1 1\n",
            " 0 1 0]\n",
            "Most fitted DNA:  [0 0 0 0 0 0 0 1 0 1 1 1 1 1 1 0 0 1 0 1 0 0 0 0 0 0 0 0 1 0 1 1 1 1 1 1 1\n",
            " 0 0 0]\n",
            "Most fitted DNA:  [0 0 0 0 0 1 0 1 1 1 1 1 1 1 1 0 0 1 0 1 0 0 0 0 0 0 0 0 0 1 1 1 1 1 1 1 0\n",
            " 1 0 0]\n",
            "Most fitted DNA:  [0 0 0 0 0 1 0 1 1 0 1 1 1 1 1 0 0 1 0 1 0 0 0 0 0 0 0 0 0 0 1 1 1 1 1 1 1\n",
            " 0 0 0]\n",
            "Most fitted DNA:  [0 0 0 0 0 1 0 1 0 1 1 1 1 1 1 0 0 1 0 0 0 0 0 0 0 0 0 0 0 0 1 1 1 1 1 1 1\n",
            " 1 0 0]\n",
            "Most fitted DNA:  [0 0 0 0 0 1 0 1 0 1 1 1 1 1 1 0 0 1 0 0 0 0 0 0 0 0 0 0 0 0 1 1 1 1 1 1 1\n",
            " 1 0 0]\n",
            "Most fitted DNA:  [0 0 0 0 0 1 0 1 0 1 1 1 1 1 1 0 0 1 0 1 0 0 0 0 0 0 0 0 0 0 1 1 1 1 1 1 1\n",
            " 1 0 0]\n",
            "Most fitted DNA:  [0 0 0 0 0 1 0 1 0 1 1 1 1 1 1 0 0 1 0 0 0 0 0 0 0 0 0 0 0 0 1 1 1 1 1 1 1\n",
            " 1 0 0]\n",
            "Most fitted DNA:  [0 0 0 0 1 1 0 1 0 1 1 1 1 1 1 0 0 1 0 0 0 0 0 0 0 0 0 0 0 0 1 1 1 1 1 1 1\n",
            " 1 0 0]\n",
            "Most fitted DNA:  [0 0 0 0 1 0 0 1 1 1 1 1 1 1 1 1 1 1 0 0 0 0 0 0 0 0 0 1 0 0 1 1 1 1 1 1 1\n",
            " 0 0 0]\n",
            "Most fitted DNA:  [0 0 0 0 1 0 0 1 0 1 1 1 1 1 1 1 0 1 0 0 0 0 0 0 0 0 0 1 0 0 1 1 1 1 1 1 1\n",
            " 0 0 0]\n",
            "Most fitted DNA:  [0 0 0 0 0 1 0 1 0 1 1 1 1 1 1 0 0 1 0 0 0 0 0 0 0 0 0 0 0 0 1 1 1 1 1 1 1\n",
            " 0 0 0]\n",
            "Most fitted DNA:  [0 0 0 0 0 1 0 1 0 1 1 1 1 1 1 0 0 1 0 0 0 0 0 0 0 0 0 0 0 0 1 1 1 1 1 1 1\n",
            " 0 0 0]\n",
            "Most fitted DNA:  [0 0 0 0 1 0 0 1 1 1 1 1 1 1 1 0 0 1 0 0 0 0 0 0 0 0 0 0 0 1 1 1 1 1 1 1 1\n",
            " 1 0 0]\n",
            "Most fitted DNA:  [0 0 0 0 0 1 0 1 1 1 1 1 1 1 1 0 0 1 0 0 0 0 0 0 0 0 0 0 0 1 1 1 1 1 1 1 1\n",
            " 0 0 0]\n",
            "Most fitted DNA:  [0 0 0 0 0 1 0 1 1 1 1 1 1 1 1 0 0 1 0 0 0 0 0 0 0 0 0 0 0 0 1 1 1 1 1 1 1\n",
            " 0 0 0]\n",
            "Most fitted DNA:  [0 0 0 0 0 1 0 1 0 1 1 1 1 1 1 0 0 1 0 0 0 0 0 0 0 0 0 0 0 0 1 1 1 1 1 1 1\n",
            " 1 0 0]\n",
            "Most fitted DNA:  [0 0 0 0 0 1 0 1 1 1 1 1 1 1 1 0 0 1 0 0 0 0 0 0 0 0 0 0 0 1 1 1 1 1 1 1 1\n",
            " 1 0 0]\n",
            "Most fitted DNA:  [0 0 0 0 0 1 0 1 1 1 1 1 1 1 1 0 0 1 0 0 0 0 0 0 0 0 0 0 0 0 1 1 1 1 1 1 1\n",
            " 1 0 0]\n",
            "Most fitted DNA:  [0 0 0 0 0 1 0 1 0 1 1 1 1 1 1 0 0 1 0 0 0 0 0 0 0 0 0 0 0 1 1 1 1 1 1 1 1\n",
            " 1 0 0]\n"
          ]
        }
      ]
    },
    {
      "cell_type": "code",
      "source": [
        "pop_best_1_DNA = pop[np.argmax(fitness), 0:10] # number under DNA size based in variables and Bounds\n",
        "pop_best_1_real = pop_best_1_DNA.dot(2 ** np.arange(int(DNA_SIZE/4))[::-1]) / float(2**(DNA_SIZE/4)-1) * (u_BOUND[1]-u_BOUND[0]) + u_BOUND[0]\n",
        "\n",
        "pop_best_2_DNA = pop[np.argmax(fitness), 10:20]\n",
        "pop_best_2_real = pop_best_2_DNA.dot(2 ** np.arange(int(DNA_SIZE/4))[::-1]) / float(2**(DNA_SIZE/4)-1) * (s_BOUND[1]-s_BOUND[0]) + s_BOUND[0]\n",
        "\n",
        "pop_best_3_DNA = pop[np.argmax(fitness), 20:30]\n",
        "pop_best_3_real = pop_best_3_DNA.dot(2 ** np.arange(int(DNA_SIZE/4))[::-1]) / float(2**(DNA_SIZE/4)-1) * (k_BOUND[1]-k_BOUND[0]) + k_BOUND[0]\n",
        "\n",
        "pop_best_4_DNA = pop[np.argmax(fitness), 30:40]\n",
        "pop_best_4_real = pop_best_4_DNA.dot(2 ** np.arange(int(DNA_SIZE/4))[::-1]) / float(2**(DNA_SIZE/4)-1) * (c_BOUND[1]-c_BOUND[0]) + c_BOUND[0]\n",
        ""
      ],
      "metadata": {
        "id": "dhP8Jp-EtYxp"
      },
      "execution_count": 51,
      "outputs": []
    },
    {
      "cell_type": "code",
      "source": [
        "print(\"Best real u value: \", pop_best_1_real)\n",
        "print(\"Best real s value: \", pop_best_2_real)\n",
        "print(\"Best real k value: \", pop_best_3_real)\n",
        "print(\"Best real c value: \", pop_best_4_real)\n",
        "\n",
        "print(\"minimum function value: \", 1/F(pop_best_1_real, pop_best_2_real, pop_best_3_real, pop_best_4_real))\n"
      ],
      "metadata": {
        "id": "4_7snrNqtnh-",
        "colab": {
          "base_uri": "https://localhost:8080/"
        },
        "outputId": "60ea3101-1eb5-4547-aeb5-9427396202df"
      },
      "execution_count": 52,
      "outputs": [
        {
          "output_type": "stream",
          "name": "stdout",
          "text": [
            "Best real u value:  20.30791788856305\n",
            "Best real s value:  496.04105571847504\n",
            "Best real k value:  50175.953079178886\n",
            "Best real c value:  2654.2521994134895\n",
            "minimum function value:  0.7912774482722874\n"
          ]
        }
      ]
    },
    {
      "cell_type": "code",
      "source": [],
      "metadata": {
        "id": "nY5L5xoEttiU"
      },
      "execution_count": null,
      "outputs": []
    }
  ]
}